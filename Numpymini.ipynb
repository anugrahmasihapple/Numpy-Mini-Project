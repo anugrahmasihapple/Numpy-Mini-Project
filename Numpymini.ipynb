{
  "nbformat": 4,
  "nbformat_minor": 0,
  "metadata": {
    "colab": {
      "provenance": []
    },
    "kernelspec": {
      "name": "python3",
      "display_name": "Python 3"
    },
    "language_info": {
      "name": "python"
    }
  },
  "cells": [
    {
      "cell_type": "markdown",
      "source": [
        "Let's upload the data file on our Notebook\n",
        "\n"
      ],
      "metadata": {
        "id": "-fE_ouyzhQri"
      }
    },
    {
      "cell_type": "code",
      "source": [
        "from google.colab import files\n"
      ],
      "metadata": {
        "id": "vfcCSJPchUrp"
      },
      "execution_count": 26,
      "outputs": []
    },
    {
      "cell_type": "code",
      "source": [
        "file_read = files.upload()\n"
      ],
      "metadata": {
        "colab": {
          "base_uri": "https://localhost:8080/",
          "height": 74
        },
        "id": "G6FfVfWYhW-0",
        "outputId": "2e0eff48-9b0c-4fab-b670-30014b24d33b"
      },
      "execution_count": 27,
      "outputs": [
        {
          "output_type": "display_data",
          "data": {
            "text/plain": [
              "<IPython.core.display.HTML object>"
            ],
            "text/html": [
              "\n",
              "     <input type=\"file\" id=\"files-b968210c-ca29-4374-a1bd-b00d8fc909be\" name=\"files[]\" multiple disabled\n",
              "        style=\"border:none\" />\n",
              "     <output id=\"result-b968210c-ca29-4374-a1bd-b00d8fc909be\">\n",
              "      Upload widget is only available when the cell has been executed in the\n",
              "      current browser session. Please rerun this cell to enable.\n",
              "      </output>\n",
              "      <script>// Copyright 2017 Google LLC\n",
              "//\n",
              "// Licensed under the Apache License, Version 2.0 (the \"License\");\n",
              "// you may not use this file except in compliance with the License.\n",
              "// You may obtain a copy of the License at\n",
              "//\n",
              "//      http://www.apache.org/licenses/LICENSE-2.0\n",
              "//\n",
              "// Unless required by applicable law or agreed to in writing, software\n",
              "// distributed under the License is distributed on an \"AS IS\" BASIS,\n",
              "// WITHOUT WARRANTIES OR CONDITIONS OF ANY KIND, either express or implied.\n",
              "// See the License for the specific language governing permissions and\n",
              "// limitations under the License.\n",
              "\n",
              "/**\n",
              " * @fileoverview Helpers for google.colab Python module.\n",
              " */\n",
              "(function(scope) {\n",
              "function span(text, styleAttributes = {}) {\n",
              "  const element = document.createElement('span');\n",
              "  element.textContent = text;\n",
              "  for (const key of Object.keys(styleAttributes)) {\n",
              "    element.style[key] = styleAttributes[key];\n",
              "  }\n",
              "  return element;\n",
              "}\n",
              "\n",
              "// Max number of bytes which will be uploaded at a time.\n",
              "const MAX_PAYLOAD_SIZE = 100 * 1024;\n",
              "\n",
              "function _uploadFiles(inputId, outputId) {\n",
              "  const steps = uploadFilesStep(inputId, outputId);\n",
              "  const outputElement = document.getElementById(outputId);\n",
              "  // Cache steps on the outputElement to make it available for the next call\n",
              "  // to uploadFilesContinue from Python.\n",
              "  outputElement.steps = steps;\n",
              "\n",
              "  return _uploadFilesContinue(outputId);\n",
              "}\n",
              "\n",
              "// This is roughly an async generator (not supported in the browser yet),\n",
              "// where there are multiple asynchronous steps and the Python side is going\n",
              "// to poll for completion of each step.\n",
              "// This uses a Promise to block the python side on completion of each step,\n",
              "// then passes the result of the previous step as the input to the next step.\n",
              "function _uploadFilesContinue(outputId) {\n",
              "  const outputElement = document.getElementById(outputId);\n",
              "  const steps = outputElement.steps;\n",
              "\n",
              "  const next = steps.next(outputElement.lastPromiseValue);\n",
              "  return Promise.resolve(next.value.promise).then((value) => {\n",
              "    // Cache the last promise value to make it available to the next\n",
              "    // step of the generator.\n",
              "    outputElement.lastPromiseValue = value;\n",
              "    return next.value.response;\n",
              "  });\n",
              "}\n",
              "\n",
              "/**\n",
              " * Generator function which is called between each async step of the upload\n",
              " * process.\n",
              " * @param {string} inputId Element ID of the input file picker element.\n",
              " * @param {string} outputId Element ID of the output display.\n",
              " * @return {!Iterable<!Object>} Iterable of next steps.\n",
              " */\n",
              "function* uploadFilesStep(inputId, outputId) {\n",
              "  const inputElement = document.getElementById(inputId);\n",
              "  inputElement.disabled = false;\n",
              "\n",
              "  const outputElement = document.getElementById(outputId);\n",
              "  outputElement.innerHTML = '';\n",
              "\n",
              "  const pickedPromise = new Promise((resolve) => {\n",
              "    inputElement.addEventListener('change', (e) => {\n",
              "      resolve(e.target.files);\n",
              "    });\n",
              "  });\n",
              "\n",
              "  const cancel = document.createElement('button');\n",
              "  inputElement.parentElement.appendChild(cancel);\n",
              "  cancel.textContent = 'Cancel upload';\n",
              "  const cancelPromise = new Promise((resolve) => {\n",
              "    cancel.onclick = () => {\n",
              "      resolve(null);\n",
              "    };\n",
              "  });\n",
              "\n",
              "  // Wait for the user to pick the files.\n",
              "  const files = yield {\n",
              "    promise: Promise.race([pickedPromise, cancelPromise]),\n",
              "    response: {\n",
              "      action: 'starting',\n",
              "    }\n",
              "  };\n",
              "\n",
              "  cancel.remove();\n",
              "\n",
              "  // Disable the input element since further picks are not allowed.\n",
              "  inputElement.disabled = true;\n",
              "\n",
              "  if (!files) {\n",
              "    return {\n",
              "      response: {\n",
              "        action: 'complete',\n",
              "      }\n",
              "    };\n",
              "  }\n",
              "\n",
              "  for (const file of files) {\n",
              "    const li = document.createElement('li');\n",
              "    li.append(span(file.name, {fontWeight: 'bold'}));\n",
              "    li.append(span(\n",
              "        `(${file.type || 'n/a'}) - ${file.size} bytes, ` +\n",
              "        `last modified: ${\n",
              "            file.lastModifiedDate ? file.lastModifiedDate.toLocaleDateString() :\n",
              "                                    'n/a'} - `));\n",
              "    const percent = span('0% done');\n",
              "    li.appendChild(percent);\n",
              "\n",
              "    outputElement.appendChild(li);\n",
              "\n",
              "    const fileDataPromise = new Promise((resolve) => {\n",
              "      const reader = new FileReader();\n",
              "      reader.onload = (e) => {\n",
              "        resolve(e.target.result);\n",
              "      };\n",
              "      reader.readAsArrayBuffer(file);\n",
              "    });\n",
              "    // Wait for the data to be ready.\n",
              "    let fileData = yield {\n",
              "      promise: fileDataPromise,\n",
              "      response: {\n",
              "        action: 'continue',\n",
              "      }\n",
              "    };\n",
              "\n",
              "    // Use a chunked sending to avoid message size limits. See b/62115660.\n",
              "    let position = 0;\n",
              "    do {\n",
              "      const length = Math.min(fileData.byteLength - position, MAX_PAYLOAD_SIZE);\n",
              "      const chunk = new Uint8Array(fileData, position, length);\n",
              "      position += length;\n",
              "\n",
              "      const base64 = btoa(String.fromCharCode.apply(null, chunk));\n",
              "      yield {\n",
              "        response: {\n",
              "          action: 'append',\n",
              "          file: file.name,\n",
              "          data: base64,\n",
              "        },\n",
              "      };\n",
              "\n",
              "      let percentDone = fileData.byteLength === 0 ?\n",
              "          100 :\n",
              "          Math.round((position / fileData.byteLength) * 100);\n",
              "      percent.textContent = `${percentDone}% done`;\n",
              "\n",
              "    } while (position < fileData.byteLength);\n",
              "  }\n",
              "\n",
              "  // All done.\n",
              "  yield {\n",
              "    response: {\n",
              "      action: 'complete',\n",
              "    }\n",
              "  };\n",
              "}\n",
              "\n",
              "scope.google = scope.google || {};\n",
              "scope.google.colab = scope.google.colab || {};\n",
              "scope.google.colab._files = {\n",
              "  _uploadFiles,\n",
              "  _uploadFilesContinue,\n",
              "};\n",
              "})(self);\n",
              "</script> "
            ]
          },
          "metadata": {}
        },
        {
          "output_type": "stream",
          "name": "stdout",
          "text": [
            "Saving makeSenseOfCensus.csv to makeSenseOfCensus (1).csv\n"
          ]
        }
      ]
    },
    {
      "cell_type": "markdown",
      "source": [
        "Upload widget is only available when the cell has been executed in the current browser session. Please rerun this cell to enable.\n",
        "Saving makeSenseOfCensus.csv to makeSenseOfCensus (1).csv\n"
      ],
      "metadata": {
        "id": "r6HxXb1ffWN-"
      }
    },
    {
      "cell_type": "code",
      "execution_count": 28,
      "metadata": {
        "id": "japIIqepe7PN"
      },
      "outputs": [],
      "source": [
        "data = 'makeSenseOfCensus.csv'"
      ]
    },
    {
      "cell_type": "markdown",
      "source": [
        "Importing Numpy dependency and generate the dataset into n-dimensional Array\n",
        "\n"
      ],
      "metadata": {
        "id": "Ed5B6Uvnfh83"
      }
    },
    {
      "cell_type": "code",
      "source": [
        "import numpy as np\n",
        "data_np = np.genfromtxt(data, delimiter = \",\", skip_header = 1)\n",
        "print(data_np)\n"
      ],
      "metadata": {
        "colab": {
          "base_uri": "https://localhost:8080/"
        },
        "id": "gnHifopHfT-6",
        "outputId": "6db31650-9bfa-4724-92bc-9206cdd16b07"
      },
      "execution_count": 29,
      "outputs": [
        {
          "output_type": "stream",
          "name": "stdout",
          "text": [
            "[[39. 13.  4. ...  0. 40.  0.]\n",
            " [50. 13.  4. ...  0. 13.  0.]\n",
            " [38.  9.  4. ...  0. 40.  0.]\n",
            " ...\n",
            " [48. 13.  4. ...  0. 58.  1.]\n",
            " [40. 10.  4. ...  0. 40.  0.]\n",
            " [39. 13.  4. ...  0. 50.  1.]]\n"
          ]
        }
      ]
    },
    {
      "cell_type": "code",
      "source": [
        "type(data_np)\n"
      ],
      "metadata": {
        "colab": {
          "base_uri": "https://localhost:8080/"
        },
        "id": "7aH9G3E6fpJS",
        "outputId": "fb7e586c-b4fd-4f1e-db9d-df12a8063132"
      },
      "execution_count": 30,
      "outputs": [
        {
          "output_type": "execute_result",
          "data": {
            "text/plain": [
              "numpy.ndarray"
            ]
          },
          "metadata": {},
          "execution_count": 30
        }
      ]
    },
    {
      "cell_type": "code",
      "source": [
        "print(\"\\nData: \\n\\n\", data_np)\n"
      ],
      "metadata": {
        "colab": {
          "base_uri": "https://localhost:8080/"
        },
        "id": "mVYluG9ZfsNY",
        "outputId": "34d3edad-295d-42d7-a7e5-5c0749559ae7"
      },
      "execution_count": 31,
      "outputs": [
        {
          "output_type": "stream",
          "name": "stdout",
          "text": [
            "\n",
            "Data: \n",
            "\n",
            " [[39. 13.  4. ...  0. 40.  0.]\n",
            " [50. 13.  4. ...  0. 13.  0.]\n",
            " [38.  9.  4. ...  0. 40.  0.]\n",
            " ...\n",
            " [48. 13.  4. ...  0. 58.  1.]\n",
            " [40. 10.  4. ...  0. 40.  0.]\n",
            " [39. 13.  4. ...  0. 50.  1.]]\n"
          ]
        }
      ]
    },
    {
      "cell_type": "code",
      "source": [
        "print(data_np.shape)\n"
      ],
      "metadata": {
        "colab": {
          "base_uri": "https://localhost:8080/"
        },
        "id": "CZZLC9VHfvhx",
        "outputId": "7cb3f33e-e4f5-41a2-cd93-5a26df866762"
      },
      "execution_count": 32,
      "outputs": [
        {
          "output_type": "stream",
          "name": "stdout",
          "text": [
            "(1000, 8)\n"
          ]
        }
      ]
    },
    {
      "cell_type": "code",
      "source": [
        "print(data_np.dtype)\n"
      ],
      "metadata": {
        "colab": {
          "base_uri": "https://localhost:8080/"
        },
        "id": "HTICKvNhf0PM",
        "outputId": "5718f1a3-ea9a-415b-e76e-ba2e84ecd187"
      },
      "execution_count": 33,
      "outputs": [
        {
          "output_type": "stream",
          "name": "stdout",
          "text": [
            "float64\n"
          ]
        }
      ]
    },
    {
      "cell_type": "code",
      "source": [
        "new_record = np.array([[50, 9, 4, 1, 0, 0, 40, 0]], dtype=\"float64\")\n"
      ],
      "metadata": {
        "id": "04LQY7XDf2Pu"
      },
      "execution_count": 34,
      "outputs": []
    },
    {
      "cell_type": "code",
      "source": [
        "print(new_record.shape)\n"
      ],
      "metadata": {
        "colab": {
          "base_uri": "https://localhost:8080/"
        },
        "id": "2tpEbAv0f5yM",
        "outputId": "1d551f30-ce2a-43de-d2fc-138f083504cf"
      },
      "execution_count": 35,
      "outputs": [
        {
          "output_type": "stream",
          "name": "stdout",
          "text": [
            "(1, 8)\n"
          ]
        }
      ]
    },
    {
      "cell_type": "markdown",
      "source": [
        "Step 2 : Append the Data\n",
        "\n"
      ],
      "metadata": {
        "id": "-ZMLKIBPf9zR"
      }
    },
    {
      "cell_type": "code",
      "source": [
        "New_data = np.append(data_np, new_record, axis=0)\n",
        "print(New_data.shape)\n"
      ],
      "metadata": {
        "colab": {
          "base_uri": "https://localhost:8080/"
        },
        "id": "t-hPk7FUf5za",
        "outputId": "9962cafa-59e7-422b-804e-805d7ae1f42c"
      },
      "execution_count": 36,
      "outputs": [
        {
          "output_type": "stream",
          "name": "stdout",
          "text": [
            "(1001, 8)\n"
          ]
        }
      ]
    },
    {
      "cell_type": "markdown",
      "source": [
        "Step 3 : Check if it's a young country or old country\n",
        "\n"
      ],
      "metadata": {
        "id": "JctXQ6NPgFIM"
      }
    },
    {
      "cell_type": "code",
      "source": [
        "#Create a new array called 'age' by taking only age column(age is the column with index 0) of 'census' array.\n",
        "age_arr = New_data[:, 0]"
      ],
      "metadata": {
        "id": "pa2jlMeMgHTR"
      },
      "execution_count": 37,
      "outputs": []
    },
    {
      "cell_type": "code",
      "source": [
        "\n",
        "# Find the max age and store it in a variable called 'max_age'.\n",
        "age_arr = New_data[:, 0]\n",
        "max_age = np.max(age_arr)\n",
        "print(\"Max Age: \", max_age)\n",
        "# Find the min age and store it in a variable called 'min_age'.\n",
        "min_age = np.min(age_arr)\n",
        "print(\"Min Age: \", min_age)\n",
        "# Find the mean of the age and store it in a variable called 'age_mean'.\n",
        "age_mean = np.mean(age_arr)\n",
        "print(\"Mean Age: \", age_mean)\n",
        "# Find the standard deviation of the age and store it in a variable called 'age_std'\n",
        "std_age = np.std(age_arr)\n",
        "print(\"Standard deviation Age:\", std_age)"
      ],
      "metadata": {
        "colab": {
          "base_uri": "https://localhost:8080/"
        },
        "id": "UxP-XHrDgNSX",
        "outputId": "ed07bca5-0b2f-4298-9762-aa67241f2d42"
      },
      "execution_count": 38,
      "outputs": [
        {
          "output_type": "stream",
          "name": "stdout",
          "text": [
            "Max Age:  90.0\n",
            "Min Age:  17.0\n",
            "Mean Age:  38.06293706293706\n",
            "Standard deviation Age: 13.341478176165857\n"
          ]
        }
      ]
    },
    {
      "cell_type": "code",
      "source": [
        "race_arr = New_data[:, 2]\n",
        "print(race_arr)"
      ],
      "metadata": {
        "colab": {
          "base_uri": "https://localhost:8080/"
        },
        "id": "2OlMGvQkgS9G",
        "outputId": "c260491e-f174-4cc8-9b2b-3b2acc3b808f"
      },
      "execution_count": 39,
      "outputs": [
        {
          "output_type": "stream",
          "name": "stdout",
          "text": [
            "[4. 4. 4. ... 4. 4. 4.]\n"
          ]
        }
      ]
    },
    {
      "cell_type": "code",
      "source": [
        "np.unique(race_arr) #Checking out for all the unique values in the race array\n"
      ],
      "metadata": {
        "colab": {
          "base_uri": "https://localhost:8080/"
        },
        "id": "9GaxdqVOgWy9",
        "outputId": "62377859-61f6-45d6-a4e1-b6a8ea5db11b"
      },
      "execution_count": 40,
      "outputs": [
        {
          "output_type": "execute_result",
          "data": {
            "text/plain": [
              "array([0., 1., 2., 3., 4.])"
            ]
          },
          "metadata": {},
          "execution_count": 40
        }
      ]
    },
    {
      "cell_type": "code",
      "source": [
        "# Create four different arrays by subsetting 'census' array by Race \n",
        "# column(Race is the column with index 2) and save them in 'race_0','race_1', \n",
        "# 'race_2', 'race_3' and 'race_4' respectively(Meaning: Store the array\n",
        "#  where 'race'column has value 0 in 'race_0', so on and so forth)\n",
        "race_0 = race_arr[race_arr == 0]\n",
        "race_1 = race_arr[race_arr == 1]\n",
        "race_2 = race_arr[race_arr == 2]\n",
        "race_3 = race_arr[race_arr == 3]\n",
        "race_4 = race_arr[race_arr == 4]"
      ],
      "metadata": {
        "id": "a7nyoXzlgZ_k"
      },
      "execution_count": 41,
      "outputs": []
    },
    {
      "cell_type": "code",
      "source": [
        "\n",
        "# Store the length of the above created arrays in\n",
        "#  'len_0', 'len_1','len_2', 'len_3' and 'len_4' respectively\n",
        "\n",
        "#Amer-Indian-Eskimo\n",
        "len_0 = np.size(race_0)\n",
        "print(\"Length of race 0: \", len_0)\n",
        "\n",
        "#Asian-Pac-Islander\n",
        "len_1 = np.size(race_1)\n",
        "print(\"Length of race 1: \", len_1)\n",
        "\n",
        "#Black\n",
        "len_2 = np.size(race_2)\n",
        "print(\"Length of race 2: \", len_2)\n",
        "\n",
        "#others\n",
        "len_3 = np.size(race_3)\n",
        "print(\"Length of race 3: \", len_3)\n",
        "\n",
        "#White\n",
        "len_4 = np.size(race_4)\n",
        "print(\"Length of race 4: \", len_4)"
      ],
      "metadata": {
        "colab": {
          "base_uri": "https://localhost:8080/"
        },
        "id": "8bhYmIPsgdZf",
        "outputId": "8568c60d-139f-4085-fd03-f5bbe6d8b21e"
      },
      "execution_count": 42,
      "outputs": [
        {
          "output_type": "stream",
          "name": "stdout",
          "text": [
            "Length of race 0:  10\n",
            "Length of race 1:  27\n",
            "Length of race 2:  110\n",
            "Length of race 3:  6\n",
            "Length of race 4:  848\n"
          ]
        }
      ]
    },
    {
      "cell_type": "code",
      "source": [
        "print(f\"race others is  with just {len_3} number of citizens \", )\n"
      ],
      "metadata": {
        "colab": {
          "base_uri": "https://localhost:8080/"
        },
        "id": "sTyJ9wnVghy2",
        "outputId": "41c622fd-0290-485a-c2c9-40b9628e8395"
      },
      "execution_count": 43,
      "outputs": [
        {
          "output_type": "stream",
          "name": "stdout",
          "text": [
            "race others is  with just 6 number of citizens \n"
          ]
        }
      ]
    },
    {
      "cell_type": "code",
      "source": [
        "minority_race = len_3 # size of the race with least number of citizens\n",
        "print(minority_race)\n",
        "     "
      ],
      "metadata": {
        "colab": {
          "base_uri": "https://localhost:8080/"
        },
        "id": "ARLlVhSmglYs",
        "outputId": "a63399ae-1b84-4633-8371-532fb7063557"
      },
      "execution_count": 44,
      "outputs": [
        {
          "output_type": "stream",
          "name": "stdout",
          "text": [
            "6\n"
          ]
        }
      ]
    },
    {
      "cell_type": "markdown",
      "source": [
        "Step 5: As per govt. records citizens above 60 should not work more than 25 hours a week. Let us check if the policy is in place\n",
        "\n"
      ],
      "metadata": {
        "id": "mZIBnZszgqyq"
      }
    },
    {
      "cell_type": "code",
      "source": [
        "senior_citizens = age_arr[age_arr > 60] #Using the age array which we created earlier and filtering out the senior citizens above the age of 60\n",
        "print(senior_citizens)\n",
        "     "
      ],
      "metadata": {
        "colab": {
          "base_uri": "https://localhost:8080/"
        },
        "id": "f2QKTPfKgszs",
        "outputId": "4f95b3ac-26e3-44e8-bba3-190d717c37cc"
      },
      "execution_count": 45,
      "outputs": [
        {
          "output_type": "stream",
          "name": "stdout",
          "text": [
            "[79. 67. 76. 61. 70. 64. 71. 68. 66. 64. 90. 66. 75. 65. 64. 61. 65. 77.\n",
            " 62. 76. 63. 66. 67. 65. 62. 63. 80. 67. 63. 72. 62. 74. 67. 72. 69. 65.\n",
            " 65. 71. 70. 66. 65. 61. 61. 68. 64. 64. 62. 73. 72. 63. 62. 61. 71. 63.\n",
            " 63. 67. 81. 64. 67. 78. 63.]\n"
          ]
        }
      ]
    },
    {
      "cell_type": "code",
      "source": [
        "senior_wh =  New_data[:, 6] #pulling out the working hours of senior citizens using the array having the condition >60\n",
        "print(senior_wh[age_arr>60])\n",
        "working_hours_sum = np.sum(senior_wh[age_arr>60])\n",
        "print(\"Total working hours of all the senior citizens\", working_hours_sum)"
      ],
      "metadata": {
        "colab": {
          "base_uri": "https://localhost:8080/"
        },
        "id": "aGKAsTDSgwZH",
        "outputId": "ad5541d9-1fe5-44c9-a696-b8b6556d7f71"
      },
      "execution_count": 46,
      "outputs": [
        {
          "output_type": "stream",
          "name": "stdout",
          "text": [
            "[20.  2. 40. 40. 40. 40.  2. 20. 20. 40. 40. 50. 20. 40. 40. 40. 16. 40.\n",
            " 24. 10. 45. 55.  8. 40. 40. 40. 24. 24. 35. 20. 40.  9. 48. 40. 40. 30.\n",
            " 24. 15. 15.  4. 59. 50. 40. 20. 40. 45. 40. 40. 24.  6. 48. 40. 40. 15.\n",
            " 55. 40. 30.  5. 40. 40. 20.]\n",
            "Total working hours of all the senior citizens 1917.0\n"
          ]
        }
      ]
    },
    {
      "cell_type": "code",
      "source": [
        "# Find the length of 'senior_citizens' and store it in a variable called 'senior_citizens_len'\n",
        "senior_citizens_len = np.size(senior_wh[age_arr>60])\n",
        "print(senior_citizens_len)"
      ],
      "metadata": {
        "colab": {
          "base_uri": "https://localhost:8080/"
        },
        "id": "KXE2S1msg0nw",
        "outputId": "11a03032-a3fd-452c-f6c7-e8944fabf9bd"
      },
      "execution_count": 47,
      "outputs": [
        {
          "output_type": "stream",
          "name": "stdout",
          "text": [
            "61\n"
          ]
        }
      ]
    },
    {
      "cell_type": "code",
      "source": [
        "# Finally find the average working hours of the senior citizens by dividing \n",
        "# 'working_hours_sum' by 'senior_citizens_len' and store it in a variable called 'avg_working hours'.\n",
        "avg_working_hours = working_hours_sum / senior_citizens_len\n",
        "print(avg_working_hours)\n",
        "print(\"Hence the policy is not followed\")"
      ],
      "metadata": {
        "colab": {
          "base_uri": "https://localhost:8080/"
        },
        "id": "AHZJkfXTg345",
        "outputId": "1fa2ef42-7ad3-431c-e240-dde95e48ca72"
      },
      "execution_count": 48,
      "outputs": [
        {
          "output_type": "stream",
          "name": "stdout",
          "text": [
            "31.42622950819672\n",
            "Hence the policy is not followed\n"
          ]
        }
      ]
    },
    {
      "cell_type": "code",
      "source": [
        "# Create two new subset arrays called 'high' and 'low' by filtering 'census' \n",
        "# according to education-num>10 and education-num<=10 (education-num is the column with index 1) respectively.\n",
        "\n",
        "\n",
        "edu_num = New_data[:, 1]\n",
        "print(edu_num)\n",
        "\n",
        "high = edu_num[edu_num>10]\n",
        "low = edu_num[edu_num<=10]"
      ],
      "metadata": {
        "colab": {
          "base_uri": "https://localhost:8080/"
        },
        "id": "THAFonawg7gM",
        "outputId": "d1228f0f-d086-49a1-b07f-8ff43890ac80"
      },
      "execution_count": 49,
      "outputs": [
        {
          "output_type": "stream",
          "name": "stdout",
          "text": [
            "[13. 13.  9. ... 10. 13.  9.]\n"
          ]
        }
      ]
    },
    {
      "cell_type": "code",
      "source": [
        "# Find the mean of income column(income is the column with index 7) \n",
        "# of 'high' array and store it in 'avg_pay_high'. \n",
        "income_arr = New_data[:, 7]\n",
        "avg_pay_high = np.mean(income_arr[income_arr == 1]) #since in data >50 is 1 we pull out all the 1's and calculate mean\n",
        "\n",
        "print(avg_pay_high)"
      ],
      "metadata": {
        "colab": {
          "base_uri": "https://localhost:8080/"
        },
        "id": "24I4Ut_Wg-51",
        "outputId": "c224cd55-725c-4c70-b779-111810014cef"
      },
      "execution_count": 50,
      "outputs": [
        {
          "output_type": "stream",
          "name": "stdout",
          "text": [
            "1.0\n"
          ]
        }
      ]
    },
    {
      "cell_type": "code",
      "source": [
        "# Do the same for 'low' array and store it's mean in 'avg_pay_low'.\n",
        "avg_pay_low = np.mean(income_arr[income_arr == 0])\n",
        "print(avg_pay_low)"
      ],
      "metadata": {
        "colab": {
          "base_uri": "https://localhost:8080/"
        },
        "id": "mH0B8fRjhCCC",
        "outputId": "371605de-c79a-472d-d1c5-d75373ce05fe"
      },
      "execution_count": 51,
      "outputs": [
        {
          "output_type": "stream",
          "name": "stdout",
          "text": [
            "0.0\n"
          ]
        }
      ]
    }
  ]
}